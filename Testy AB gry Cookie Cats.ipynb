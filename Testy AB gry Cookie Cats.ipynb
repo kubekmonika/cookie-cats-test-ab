{
 "cells": [
  {
   "cell_type": "markdown",
   "metadata": {
    "toc": true
   },
   "source": [
    "<h1>Table of Contents<span class=\"tocSkip\"></span></h1>\n",
    "<div class=\"toc\" style=\"margin-top: 1em;\"><ul class=\"toc-item\"><li><span><a href=\"#Opis\" data-toc-modified-id=\"Opis-1\"><span class=\"toc-item-num\">1&nbsp;&nbsp;</span>Opis</a></span></li><li><span><a href=\"#Dane\" data-toc-modified-id=\"Dane-2\"><span class=\"toc-item-num\">2&nbsp;&nbsp;</span>Dane</a></span><ul class=\"toc-item\"><li><span><a href=\"#Informacje\" data-toc-modified-id=\"Informacje-2.1\"><span class=\"toc-item-num\">2.1&nbsp;&nbsp;</span>Informacje</a></span></li><li><span><a href=\"#Przygotowanie-danych-do-analizy\" data-toc-modified-id=\"Przygotowanie-danych-do-analizy-2.2\"><span class=\"toc-item-num\">2.2&nbsp;&nbsp;</span>Przygotowanie danych do analizy</a></span></li></ul></li><li><span><a href=\"#Analiza\" data-toc-modified-id=\"Analiza-3\"><span class=\"toc-item-num\">3&nbsp;&nbsp;</span>Analiza</a></span><ul class=\"toc-item\"><li><span><a href=\"#Czy-gracze-zostali-równo-podzieleni?\" data-toc-modified-id=\"Czy-gracze-zostali-równo-podzieleni?-3.1\"><span class=\"toc-item-num\">3.1&nbsp;&nbsp;</span>Czy gracze zostali równo podzieleni?</a></span></li><li><span><a href=\"#Zainteresowanie-grą\" data-toc-modified-id=\"Zainteresowanie-grą-3.2\"><span class=\"toc-item-num\">3.2&nbsp;&nbsp;</span>Zainteresowanie grą</a></span></li><li><span><a href=\"#Retencja-po-pierwszym-dniu\" data-toc-modified-id=\"Retencja-po-pierwszym-dniu-3.3\"><span class=\"toc-item-num\">3.3&nbsp;&nbsp;</span>Retencja po pierwszym dniu</a></span></li><li><span><a href=\"#Retencja-po-7-dniach\" data-toc-modified-id=\"Retencja-po-7-dniach-3.4\"><span class=\"toc-item-num\">3.4&nbsp;&nbsp;</span>Retencja po 7 dniach</a></span></li></ul></li><li><span><a href=\"#Wnioski\" data-toc-modified-id=\"Wnioski-4\"><span class=\"toc-item-num\">4&nbsp;&nbsp;</span>Wnioski</a></span></li></ul></div>"
   ]
  },
  {
   "cell_type": "markdown",
   "metadata": {},
   "source": [
    "# Opis\n",
    "[Cookie cats](https://play.google.com/store/apps/details?id=dk.tactile.cookiecats&hl=pl) to mobilna gra logiczna typu dopasuj-3 w której gracz rozdaje ciastka, które posiada. Jest on jednak w tym ograniczony przez zasady danego poziomu: ilość ruchów, pułap punktów itp. Wraz z postępem gry gracz dociera do bramek, które uniemożliwiają przez pewien czas dalszą grę. Bramki te można ominąć przez odpowiedni zakup w aplikacji.\n",
    "\n",
    "W projekcie tym przeanalizuję jak przesunięcie pierwszej branki z poziomu 30 na 40 wpłynęło na graczy i ich zainteresowanie dalszą grą. "
   ]
  },
  {
   "cell_type": "code",
   "execution_count": 1,
   "metadata": {
    "ExecuteTime": {
     "end_time": "2018-05-29T17:46:22.503713Z",
     "start_time": "2018-05-29T17:46:21.066993Z"
    }
   },
   "outputs": [],
   "source": [
    "import pandas as pd\n",
    "import numpy as np\n",
    "import matplotlib.pyplot as plt\n",
    "import seaborn as sns\n",
    "\n",
    "\n",
    "sns.set()"
   ]
  },
  {
   "cell_type": "markdown",
   "metadata": {},
   "source": [
    "# Dane\n",
    "## Informacje\n",
    "Dane pochodzą z repozytorium [ryanschaub](https://github.com/ryanschaub/Mobile-Games-A-B-Testing-with-Cookie-Cats).\n",
    "\n",
    "Dane zawierają informacje zebrane podczas użytkowania aplikacji przez graczy, którzy zainstalowali grę gdy przeprowadzano testy."
   ]
  },
  {
   "cell_type": "code",
   "execution_count": 3,
   "metadata": {
    "ExecuteTime": {
     "end_time": "2018-05-25T08:32:19.893838Z",
     "start_time": "2018-05-25T08:32:19.764196Z"
    }
   },
   "outputs": [
    {
     "name": "stdout",
     "output_type": "stream",
     "text": [
      "userid,version,sum_gamerounds,retention_1,retention_7\r",
      "\r\n",
      "1711136,Gate at lvl 40,20,False,False\r",
      "\r\n",
      "2964858,Gate at lvl 40,20,True,False\r",
      "\r\n",
      "3433251,Gate at lvl 40,20,False,False\r",
      "\r\n",
      "8452399,Gate at lvl 40,20,True,True\r",
      "\r\n"
     ]
    }
   ],
   "source": [
    "! head -n 5 cookie_cats_original.csv"
   ]
  },
  {
   "cell_type": "markdown",
   "metadata": {},
   "source": [
    "* `userid` - unikatowy numer gracza\n",
    "* `version` - wskazuje w której grupie był gracz: gate at lvl 30 - grupa kontrolna, gate at lvl 40 - grupa z nowym położeniem pierwszej bramki\n",
    "* `sum_gamerounds` - liczba rund wykonanych przez gracza podczas pierwszych 14 dni po instalacji\n",
    "* `retention_1` - czy gracz wrócił po 1 dniu od instalacji?\n",
    "* `retention_7` - czy gracz wrócił po 7 dniach od instalacji?\n",
    "\n",
    "Po instalacji gry każdy z graczy był losowo przydzielony do jednej z grup."
   ]
  },
  {
   "cell_type": "code",
   "execution_count": 2,
   "metadata": {
    "ExecuteTime": {
     "end_time": "2018-05-29T17:46:26.189748Z",
     "start_time": "2018-05-29T17:46:26.047820Z"
    }
   },
   "outputs": [
    {
     "data": {
      "text/html": [
       "<div>\n",
       "<style scoped>\n",
       "    .dataframe tbody tr th:only-of-type {\n",
       "        vertical-align: middle;\n",
       "    }\n",
       "\n",
       "    .dataframe tbody tr th {\n",
       "        vertical-align: top;\n",
       "    }\n",
       "\n",
       "    .dataframe thead th {\n",
       "        text-align: right;\n",
       "    }\n",
       "</style>\n",
       "<table border=\"1\" class=\"dataframe\">\n",
       "  <thead>\n",
       "    <tr style=\"text-align: right;\">\n",
       "      <th></th>\n",
       "      <th>userid</th>\n",
       "      <th>version</th>\n",
       "      <th>sum_gamerounds</th>\n",
       "      <th>retention_1</th>\n",
       "      <th>retention_7</th>\n",
       "    </tr>\n",
       "  </thead>\n",
       "  <tbody>\n",
       "    <tr>\n",
       "      <th>0</th>\n",
       "      <td>1711136</td>\n",
       "      <td>Gate at lvl 40</td>\n",
       "      <td>20</td>\n",
       "      <td>False</td>\n",
       "      <td>False</td>\n",
       "    </tr>\n",
       "    <tr>\n",
       "      <th>1</th>\n",
       "      <td>2964858</td>\n",
       "      <td>Gate at lvl 40</td>\n",
       "      <td>20</td>\n",
       "      <td>True</td>\n",
       "      <td>False</td>\n",
       "    </tr>\n",
       "    <tr>\n",
       "      <th>2</th>\n",
       "      <td>3433251</td>\n",
       "      <td>Gate at lvl 40</td>\n",
       "      <td>20</td>\n",
       "      <td>False</td>\n",
       "      <td>False</td>\n",
       "    </tr>\n",
       "    <tr>\n",
       "      <th>3</th>\n",
       "      <td>8452399</td>\n",
       "      <td>Gate at lvl 40</td>\n",
       "      <td>20</td>\n",
       "      <td>True</td>\n",
       "      <td>True</td>\n",
       "    </tr>\n",
       "    <tr>\n",
       "      <th>4</th>\n",
       "      <td>2854126</td>\n",
       "      <td>Gate at lvl 40</td>\n",
       "      <td>20</td>\n",
       "      <td>True</td>\n",
       "      <td>True</td>\n",
       "    </tr>\n",
       "  </tbody>\n",
       "</table>\n",
       "</div>"
      ],
      "text/plain": [
       "    userid         version  sum_gamerounds  retention_1  retention_7\n",
       "0  1711136  Gate at lvl 40              20        False        False\n",
       "1  2964858  Gate at lvl 40              20         True        False\n",
       "2  3433251  Gate at lvl 40              20        False        False\n",
       "3  8452399  Gate at lvl 40              20         True         True\n",
       "4  2854126  Gate at lvl 40              20         True         True"
      ]
     },
     "execution_count": 2,
     "metadata": {},
     "output_type": "execute_result"
    }
   ],
   "source": [
    "df = pd.read_csv('cookie_cats_original.csv')\n",
    "\n",
    "df.head()"
   ]
  },
  {
   "cell_type": "markdown",
   "metadata": {},
   "source": [
    "## Przygotowanie danych do analizy"
   ]
  },
  {
   "cell_type": "markdown",
   "metadata": {},
   "source": [
    "Zobaczmy z jakimi danymi mamy do czynienia."
   ]
  },
  {
   "cell_type": "code",
   "execution_count": 5,
   "metadata": {
    "ExecuteTime": {
     "end_time": "2018-05-25T09:44:36.809856Z",
     "start_time": "2018-05-25T09:44:36.779912Z"
    }
   },
   "outputs": [
    {
     "name": "stdout",
     "output_type": "stream",
     "text": [
      "<class 'pandas.core.frame.DataFrame'>\n",
      "RangeIndex: 90189 entries, 0 to 90188\n",
      "Data columns (total 5 columns):\n",
      "userid            90189 non-null int64\n",
      "version           90189 non-null object\n",
      "sum_gamerounds    90189 non-null int64\n",
      "retention_1       90189 non-null bool\n",
      "retention_7       90189 non-null bool\n",
      "dtypes: bool(2), int64(2), object(1)\n",
      "memory usage: 2.2+ MB\n"
     ]
    }
   ],
   "source": [
    "df.info()"
   ]
  },
  {
   "cell_type": "markdown",
   "metadata": {},
   "source": [
    "Mamy tabelę z 90189 rekordamy i widzimy, że nie ma żadnych brakujących wartości.\n",
    "\n",
    "Czy wszystkie wartości w kolumnie `userid` są unikatowe?"
   ]
  },
  {
   "cell_type": "code",
   "execution_count": 3,
   "metadata": {
    "ExecuteTime": {
     "end_time": "2018-05-29T17:46:31.485996Z",
     "start_time": "2018-05-29T17:46:31.466769Z"
    }
   },
   "outputs": [
    {
     "data": {
      "text/plain": [
       "6843406    1\n",
       "9403450    1\n",
       "6572764    1\n",
       "547550     1\n",
       "6312671    1\n",
       "Name: userid, dtype: int64"
      ]
     },
     "execution_count": 3,
     "metadata": {},
     "output_type": "execute_result"
    }
   ],
   "source": [
    "df['userid'].value_counts().head()"
   ]
  },
  {
   "cell_type": "markdown",
   "metadata": {},
   "source": [
    "Przypiszmy czytelniejsze wartości do kolumny `version`."
   ]
  },
  {
   "cell_type": "code",
   "execution_count": 4,
   "metadata": {
    "ExecuteTime": {
     "end_time": "2018-05-29T17:46:35.783370Z",
     "start_time": "2018-05-29T17:46:35.769809Z"
    }
   },
   "outputs": [
    {
     "name": "stdout",
     "output_type": "stream",
     "text": [
      "['Gate at lvl 40', 'Gate at lvl 30']\n"
     ]
    }
   ],
   "source": [
    "ver_val = df['version'].unique().tolist()\n",
    "print(ver_val)"
   ]
  },
  {
   "cell_type": "code",
   "execution_count": 5,
   "metadata": {
    "ExecuteTime": {
     "end_time": "2018-05-29T17:46:37.856232Z",
     "start_time": "2018-05-29T17:46:37.846786Z"
    }
   },
   "outputs": [
    {
     "name": "stdout",
     "output_type": "stream",
     "text": [
      "{'Gate at lvl 30': 'gate30', 'Gate at lvl 40': 'gate40'}\n"
     ]
    }
   ],
   "source": [
    "ver_val_replace = dict(zip(ver_val, ('gate40', 'gate30')))\n",
    "print(ver_val_replace)"
   ]
  },
  {
   "cell_type": "code",
   "execution_count": 6,
   "metadata": {
    "ExecuteTime": {
     "end_time": "2018-05-29T17:46:41.109080Z",
     "start_time": "2018-05-29T17:46:41.073330Z"
    }
   },
   "outputs": [
    {
     "data": {
      "text/html": [
       "<div>\n",
       "<style scoped>\n",
       "    .dataframe tbody tr th:only-of-type {\n",
       "        vertical-align: middle;\n",
       "    }\n",
       "\n",
       "    .dataframe tbody tr th {\n",
       "        vertical-align: top;\n",
       "    }\n",
       "\n",
       "    .dataframe thead th {\n",
       "        text-align: right;\n",
       "    }\n",
       "</style>\n",
       "<table border=\"1\" class=\"dataframe\">\n",
       "  <thead>\n",
       "    <tr style=\"text-align: right;\">\n",
       "      <th></th>\n",
       "      <th>userid</th>\n",
       "      <th>version</th>\n",
       "      <th>sum_gamerounds</th>\n",
       "      <th>retention_1</th>\n",
       "      <th>retention_7</th>\n",
       "    </tr>\n",
       "  </thead>\n",
       "  <tbody>\n",
       "    <tr>\n",
       "      <th>0</th>\n",
       "      <td>1711136</td>\n",
       "      <td>gate40</td>\n",
       "      <td>20</td>\n",
       "      <td>False</td>\n",
       "      <td>False</td>\n",
       "    </tr>\n",
       "    <tr>\n",
       "      <th>1</th>\n",
       "      <td>2964858</td>\n",
       "      <td>gate40</td>\n",
       "      <td>20</td>\n",
       "      <td>True</td>\n",
       "      <td>False</td>\n",
       "    </tr>\n",
       "    <tr>\n",
       "      <th>2</th>\n",
       "      <td>3433251</td>\n",
       "      <td>gate40</td>\n",
       "      <td>20</td>\n",
       "      <td>False</td>\n",
       "      <td>False</td>\n",
       "    </tr>\n",
       "    <tr>\n",
       "      <th>3</th>\n",
       "      <td>8452399</td>\n",
       "      <td>gate40</td>\n",
       "      <td>20</td>\n",
       "      <td>True</td>\n",
       "      <td>True</td>\n",
       "    </tr>\n",
       "    <tr>\n",
       "      <th>4</th>\n",
       "      <td>2854126</td>\n",
       "      <td>gate40</td>\n",
       "      <td>20</td>\n",
       "      <td>True</td>\n",
       "      <td>True</td>\n",
       "    </tr>\n",
       "  </tbody>\n",
       "</table>\n",
       "</div>"
      ],
      "text/plain": [
       "    userid version  sum_gamerounds  retention_1  retention_7\n",
       "0  1711136  gate40              20        False        False\n",
       "1  2964858  gate40              20         True        False\n",
       "2  3433251  gate40              20        False        False\n",
       "3  8452399  gate40              20         True         True\n",
       "4  2854126  gate40              20         True         True"
      ]
     },
     "execution_count": 6,
     "metadata": {},
     "output_type": "execute_result"
    }
   ],
   "source": [
    "df['version'] = df['version'].map(ver_val_replace)\n",
    "\n",
    "df.head()"
   ]
  },
  {
   "cell_type": "markdown",
   "metadata": {},
   "source": [
    "Jesteśmy gotowi do analizy."
   ]
  },
  {
   "cell_type": "markdown",
   "metadata": {},
   "source": [
    "# Analiza\n",
    "W dalszej części będę się posługiwać pojęciem *retencja*, które oznacza liczbę graczy, którzy pozostają w grze."
   ]
  },
  {
   "cell_type": "markdown",
   "metadata": {},
   "source": [
    "## Czy gracze zostali równo podzieleni?"
   ]
  },
  {
   "cell_type": "code",
   "execution_count": 8,
   "metadata": {
    "ExecuteTime": {
     "end_time": "2018-05-29T17:46:56.774765Z",
     "start_time": "2018-05-29T17:46:56.727178Z"
    }
   },
   "outputs": [
    {
     "name": "stdout",
     "output_type": "stream",
     "text": [
      "Podział graczy:\n"
     ]
    },
    {
     "data": {
      "text/plain": [
       "gate40    45489\n",
       "gate30    44700\n",
       "Name: version, dtype: int64"
      ]
     },
     "execution_count": 8,
     "metadata": {},
     "output_type": "execute_result"
    }
   ],
   "source": [
    "print('Podział graczy:')\n",
    "df['version'].value_counts()"
   ]
  },
  {
   "cell_type": "markdown",
   "metadata": {},
   "source": [
    "Widzimy, że liczność każdej z grup jest bardzo zbliżona."
   ]
  },
  {
   "cell_type": "markdown",
   "metadata": {},
   "source": [
    "## Zainteresowanie grą\n",
    "Zobaczmy jak zainteresowanie grą zmienia się wraz z ilością rozegranych rund."
   ]
  },
  {
   "cell_type": "code",
   "execution_count": 18,
   "metadata": {
    "ExecuteTime": {
     "end_time": "2018-05-25T10:13:12.011201Z",
     "start_time": "2018-05-25T10:13:11.990623Z"
    }
   },
   "outputs": [
    {
     "data": {
      "text/plain": [
       "sum_gamerounds\n",
       "0    3994\n",
       "1    5538\n",
       "Name: userid, dtype: int64"
      ]
     },
     "execution_count": 18,
     "metadata": {},
     "output_type": "execute_result"
    }
   ],
   "source": [
    "df_plot = (df.groupby('sum_gamerounds')['userid']\n",
    "               .count()\n",
    "               .iloc[:80])\n",
    "df_plot.head(2)"
   ]
  },
  {
   "cell_type": "code",
   "execution_count": 23,
   "metadata": {
    "ExecuteTime": {
     "end_time": "2018-05-25T10:16:46.108444Z",
     "start_time": "2018-05-25T10:16:45.873697Z"
    }
   },
   "outputs": [
    {
     "data": {
      "image/png": "[encoded data removed]",
      "text/plain": [
       "<matplotlib.figure.Figure at 0x7f824e4379e8>"
      ]
     },
     "metadata": {},
     "output_type": "display_data"
    }
   ],
   "source": [
    "plt.figure(figsize=(12,6))\n",
    "\n",
    "df_plot.plot()\n",
    "\n",
    "plt.title('Poziom zainteresowania grą')\n",
    "plt.xlabel('Liczba rozegranych rund')\n",
    "plt.ylabel('Liczba graczy')\n",
    "\n",
    "plt.show()"
   ]
  },
  {
   "cell_type": "markdown",
   "metadata": {},
   "source": [
    "Z wykresu widzimy, że dużo użytkowników instaluje grę, po czym nigdy w nią nie zagra. Dodatkowo wielu traci zainteresowanie grą już po kilku pierwszych rundach. Co może sugerować, że tym osobom nie przypadła do gustu."
   ]
  },
  {
   "cell_type": "markdown",
   "metadata": {},
   "source": [
    "## Retencja po pierwszym dniu\n",
    "Retencja po pierwszym dniu jest ważnym wskaźnikiem, który mówi jak interesująca jest gra. Im wyższa wartość tym łatwiej jest zbudować stałą grupę graczy."
   ]
  },
  {
   "cell_type": "code",
   "execution_count": 9,
   "metadata": {
    "ExecuteTime": {
     "end_time": "2018-05-29T18:09:09.374405Z",
     "start_time": "2018-05-29T18:09:09.361101Z"
    }
   },
   "outputs": [
    {
     "data": {
      "text/plain": [
       "0.44520950448502589"
      ]
     },
     "execution_count": 9,
     "metadata": {},
     "output_type": "execute_result"
    }
   ],
   "source": [
    "df.retention_1.mean()"
   ]
  },
  {
   "cell_type": "markdown",
   "metadata": {},
   "source": [
    "Widzimy, że po pierwszym dniu około 44.5% graczy powróciło do gry. Zobaczmy jak ten wskaźnik wygląda dla poszczególnych grup."
   ]
  },
  {
   "cell_type": "code",
   "execution_count": 10,
   "metadata": {
    "ExecuteTime": {
     "end_time": "2018-05-29T18:11:07.923333Z",
     "start_time": "2018-05-29T18:11:07.881526Z"
    }
   },
   "outputs": [
    {
     "data": {
      "text/plain": [
       "version\n",
       "gate30    0.448188\n",
       "gate40    0.442283\n",
       "Name: retention_1, dtype: float64"
      ]
     },
     "execution_count": 10,
     "metadata": {},
     "output_type": "execute_result"
    }
   ],
   "source": [
    "df.groupby('version')['retention_1'].mean()"
   ]
  },
  {
   "cell_type": "markdown",
   "metadata": {},
   "source": [
    "Retencja po jednym dniu w grupie kontrolnej wynosi 44.8%. Widzimy, że gdy bramka została przesunięta na poziom 40 to wartość nieznacznie zmalała do 44.2%.\n",
    "\n",
    "Sprawdźmy jakie jest prawdopodobieństwo, że ta różnica będzie miała znaczenie w przyszłości."
   ]
  },
  {
   "cell_type": "code",
   "execution_count": 11,
   "metadata": {
    "ExecuteTime": {
     "end_time": "2018-05-29T18:30:37.977135Z",
     "start_time": "2018-05-29T18:28:34.608216Z"
    }
   },
   "outputs": [],
   "source": [
    "bs_1d = []\n",
    "# liczymy średnią dla każdej z 10,000 losowych próbek do bootstrapu\n",
    "for _ in range(10000):\n",
    "    bs_mean = (df.sample(frac=1, replace=True)\n",
    "               .groupby('version')['retention_1']\n",
    "               .mean())\n",
    "    bs_1d.append(bs_mean)\n",
    "\n",
    "bs_1d = pd.DataFrame(bs_1d)"
   ]
  },
  {
   "cell_type": "markdown",
   "metadata": {},
   "source": [
    "Zobaczmy teraz gęstości rozkładu zmiennej losowej wyznaczoną na podstawie uzyskanej próby."
   ]
  },
  {
   "cell_type": "code",
   "execution_count": 26,
   "metadata": {
    "ExecuteTime": {
     "end_time": "2018-05-29T18:44:30.698922Z",
     "start_time": "2018-05-29T18:44:29.662609Z"
    }
   },
   "outputs": [
    {
     "data": {
      "text/plain": [
       "<matplotlib.figure.Figure at 0x7fc8e9ad90b8>"
      ]
     },
     "metadata": {},
     "output_type": "display_data"
    },
    {
     "data": {
      "image/png": "[encoded data removed]",
      "text/plain": [
       "<matplotlib.figure.Figure at 0x7fc8e9af7748>"
      ]
     },
     "metadata": {},
     "output_type": "display_data"
    }
   ],
   "source": [
    "plt.figure(figsize=(8,5));\n",
    "bs_1d.plot(kind='kde');\n",
    "plt.title('gęstość rozkładu średniej wartości');\n",
    "plt.xlabel('średnia retencja po 1 dniu')\n",
    "plt.show()"
   ]
  },
  {
   "cell_type": "markdown",
   "metadata": {},
   "source": [
    "Na powyższym wykresie widać różnicę dla tych dwóch grup. Przyjżyjmy się jej dokładniej."
   ]
  },
  {
   "cell_type": "code",
   "execution_count": 31,
   "metadata": {
    "ExecuteTime": {
     "end_time": "2018-05-29T19:16:08.329293Z",
     "start_time": "2018-05-29T19:16:07.743156Z"
    }
   },
   "outputs": [
    {
     "data": {
      "image/png": "[encoded data removed]",
      "text/plain": [
       "<matplotlib.figure.Figure at 0x7fc8ea692908>"
      ]
     },
     "metadata": {},
     "output_type": "display_data"
    }
   ],
   "source": [
    "bs_1d['diff'] = (bs_1d['gate30'] - bs_1d['gate40']) / bs_1d['gate40'] * 100\n",
    "\n",
    "plt.figure(figsize=(8,5));\n",
    "bs_1d['diff'].plot(kind='kde');\n",
    "plt.title('gęstość rozkładu wartości retencji');\n",
    "plt.xlabel('różnica [%]')\n",
    "plt.show()"
   ]
  },
  {
   "cell_type": "markdown",
   "metadata": {},
   "source": [
    "Policzmy p-wartość dla naszej hipotezy, że zmiana bramki będzie miała negatywny wpływ na retencję w przyszłości."
   ]
  },
  {
   "cell_type": "code",
   "execution_count": 35,
   "metadata": {
    "ExecuteTime": {
     "end_time": "2018-05-29T19:20:59.494016Z",
     "start_time": "2018-05-29T19:20:59.476280Z"
    }
   },
   "outputs": [
    {
     "name": "stdout",
     "output_type": "stream",
     "text": [
      "p = 0.962\n"
     ]
    }
   ],
   "source": [
    "print('p =', (bs_1d['diff'] > 0).mean())"
   ]
  },
  {
   "cell_type": "markdown",
   "metadata": {},
   "source": [
    "Możemy zatem stwierdzić, że przesunięcie bramki na 40 poziom najprawdopodobniej nie jest dobrym krokiem."
   ]
  },
  {
   "cell_type": "markdown",
   "metadata": {},
   "source": [
    "## Retencja po 7 dniach\n",
    "Żeby upewnić się w naszych wnioskach powtórzmy całą analizę dla danych po 7 dniach."
   ]
  },
  {
   "cell_type": "code",
   "execution_count": 36,
   "metadata": {
    "ExecuteTime": {
     "end_time": "2018-05-29T19:33:07.601285Z",
     "start_time": "2018-05-29T19:33:07.583845Z"
    },
    "scrolled": true
   },
   "outputs": [
    {
     "data": {
      "text/plain": [
       "0.1860648194347426"
      ]
     },
     "execution_count": 36,
     "metadata": {},
     "output_type": "execute_result"
    }
   ],
   "source": [
    "df.retention_7.mean()"
   ]
  },
  {
   "cell_type": "markdown",
   "metadata": {},
   "source": [
    "Po 7 dniach już tylko 18.6% graczy nadal jest zaangażowanych w grę."
   ]
  },
  {
   "cell_type": "code",
   "execution_count": 37,
   "metadata": {
    "ExecuteTime": {
     "end_time": "2018-05-29T19:35:10.981767Z",
     "start_time": "2018-05-29T19:35:10.942813Z"
    }
   },
   "outputs": [
    {
     "data": {
      "text/plain": [
       "version\n",
       "gate30    0.190201\n",
       "gate40    0.182000\n",
       "Name: retention_7, dtype: float64"
      ]
     },
     "execution_count": 37,
     "metadata": {},
     "output_type": "execute_result"
    }
   ],
   "source": [
    "df.groupby('version')['retention_7'].mean()"
   ]
  },
  {
   "cell_type": "markdown",
   "metadata": {},
   "source": [
    "Wśród grupy kontrolnej mamy 19%, a z grupy testowanej jest 18.2%. Po siedmiu dniach różnica nieznacznie wzrosła w porównaniu do wartości po jednym dniu."
   ]
  },
  {
   "cell_type": "code",
   "execution_count": 38,
   "metadata": {
    "ExecuteTime": {
     "end_time": "2018-05-29T19:39:33.846192Z",
     "start_time": "2018-05-29T19:37:39.009990Z"
    }
   },
   "outputs": [],
   "source": [
    "bs_7d = []\n",
    "# liczymy średnią dla każdej z 10,000 losowych próbek do bootstrapu\n",
    "for _ in range(10000):\n",
    "    bs_mean = (df.sample(frac=1, replace=True)\n",
    "               .groupby('version')['retention_1']\n",
    "               .mean())\n",
    "    bs_7d.append(bs_mean)\n",
    "\n",
    "bs_7d = pd.DataFrame(bs_7d)"
   ]
  },
  {
   "cell_type": "code",
   "execution_count": 39,
   "metadata": {
    "ExecuteTime": {
     "end_time": "2018-05-29T20:00:14.780007Z",
     "start_time": "2018-05-29T20:00:13.784268Z"
    }
   },
   "outputs": [
    {
     "data": {
      "text/plain": [
       "<matplotlib.figure.Figure at 0x7fc8e9a9c080>"
      ]
     },
     "metadata": {},
     "output_type": "display_data"
    },
    {
     "data": {
      "image/png": "[encoded data removed]",
      "text/plain": [
       "<matplotlib.figure.Figure at 0x7fc8e9ab6dd8>"
      ]
     },
     "metadata": {},
     "output_type": "display_data"
    }
   ],
   "source": [
    "plt.figure(figsize=(8,5));\n",
    "bs_7d.plot(kind='kde');\n",
    "plt.title('gęstość rozkładu średniej wartości');\n",
    "plt.xlabel('średnia retencja po 7 dniach')\n",
    "plt.show()"
   ]
  },
  {
   "cell_type": "markdown",
   "metadata": {},
   "source": [
    "Wyraźnie widzimy różnicę w rozkładzie gęstości. Zobaczmy jak wygląda jej rozkład."
   ]
  },
  {
   "cell_type": "code",
   "execution_count": 40,
   "metadata": {
    "ExecuteTime": {
     "end_time": "2018-05-29T20:03:35.053244Z",
     "start_time": "2018-05-29T20:03:34.501158Z"
    }
   },
   "outputs": [
    {
     "data": {
      "image/png": "[encoded data removed]",
      "text/plain": [
       "<matplotlib.figure.Figure at 0x7fc8e9ad3748>"
      ]
     },
     "metadata": {},
     "output_type": "display_data"
    }
   ],
   "source": [
    "bs_7d['diff'] = (bs_7d['gate30'] - bs_7d['gate40']) / bs_7d['gate40'] * 100\n",
    "\n",
    "plt.figure(figsize=(8,5));\n",
    "bs_7d['diff'].plot(kind='kde');\n",
    "plt.title('gęstość rozkładu wartości retencji');\n",
    "plt.xlabel('różnica [%]')\n",
    "plt.show()"
   ]
  },
  {
   "cell_type": "markdown",
   "metadata": {},
   "source": [
    "Policzmy jeszcze p_wartość dla sprawdzenia hipotezy."
   ]
  },
  {
   "cell_type": "code",
   "execution_count": 41,
   "metadata": {
    "ExecuteTime": {
     "end_time": "2018-05-29T20:05:04.825357Z",
     "start_time": "2018-05-29T20:05:04.811313Z"
    }
   },
   "outputs": [
    {
     "name": "stdout",
     "output_type": "stream",
     "text": [
      "p = 0.9618\n"
     ]
    }
   ],
   "source": [
    "print('p =', (bs_7d['diff'] > 0).mean())"
   ]
  },
  {
   "cell_type": "markdown",
   "metadata": {},
   "source": [
    "Ponownie widzimy bardzo duzą wartość, która potwierdza wcześniejszą obserwację dla retencji po 1 dniu."
   ]
  },
  {
   "cell_type": "markdown",
   "metadata": {},
   "source": [
    "# Wnioski\n",
    "Dla jedno- i siedmiodniowej retencji uzyskaliśmy p-wartość kolejno 0.962 i 0.9618 co wskazuje na wysokie prawdopodobieństwo tego, że przeniesienie pierszej bramki z poziomu 30 na 40 wpłynie negatywnie na zainteresowanie graczy dalszą grą.\n",
    "\n",
    "Wniosek jest zatem prosty: bramka powinna pozostać na 30 poziomie."
   ]
  }
 ],
 "metadata": {
  "kernelspec": {
   "display_name": "Python 3",
   "language": "python",
   "name": "python3"
  },
  "language_info": {
   "codemirror_mode": {
    "name": "ipython",
    "version": 3
   },
   "file_extension": ".py",
   "mimetype": "text/x-python",
   "name": "python",
   "nbconvert_exporter": "python",
   "pygments_lexer": "ipython3",
   "version": "3.5.2"
  },
  "toc": {
   "nav_menu": {},
   "number_sections": true,
   "sideBar": false,
   "skip_h1_title": false,
   "toc_cell": true,
   "toc_position": {},
   "toc_section_display": "block",
   "toc_window_display": false
  }
 },
 "nbformat": 4,
 "nbformat_minor": 2
}
